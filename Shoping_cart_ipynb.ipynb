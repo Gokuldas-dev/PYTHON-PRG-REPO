{
  "nbformat": 4,
  "nbformat_minor": 0,
  "metadata": {
    "colab": {
      "provenance": [],
      "authorship_tag": "ABX9TyPj6eoq2xE4P9JOwbvzN9BA",
      "include_colab_link": true
    },
    "kernelspec": {
      "name": "python3",
      "display_name": "Python 3"
    },
    "language_info": {
      "name": "python"
    }
  },
  "cells": [
    {
      "cell_type": "markdown",
      "metadata": {
        "id": "view-in-github",
        "colab_type": "text"
      },
      "source": [
        "<a href=\"https://colab.research.google.com/github/Gokuldas-dev/PYTHON-PRG-REPO/blob/Gokuldas-dev-patch-1/Shoping_cart_ipynb.ipynb\" target=\"_parent\"><img src=\"https://colab.research.google.com/assets/colab-badge.svg\" alt=\"Open In Colab\"/></a>"
      ]
    },
    {
      "cell_type": "code",
      "execution_count": 5,
      "metadata": {
        "colab": {
          "base_uri": "https://localhost:8080/"
        },
        "id": "r_Nrk_QVAuhJ",
        "outputId": "71636a8a-ffad-48fb-fb69-8fc07f3ac596"
      },
      "outputs": [
        {
          "output_type": "stream",
          "name": "stdout",
          "text": [
            "What items would you like to buy ? :pizza\n",
            "what is the price of the item ? :4.99\n",
            "hoiw many would you like ? :9\n",
            "The item is :pizza\n",
            "The price is : 4.99\n",
            "Quantity is  : 9\n",
            "The Total amout is : $44.91\n",
            "You have brought 9 x pizza/s \n"
          ]
        }
      ],
      "source": [
        "item = input(\"What items would you like to buy ? :\")\n",
        "price = float(input(\"what is the price of the item ? :\"))\n",
        "quantity = int(input(\"hoiw many would you like ? :\"))\n",
        "\n",
        "print(f\"The item is :{item}\")\n",
        "print(f\"The price is : {price}\")\n",
        "print(f\"Quantity is  : {quantity}\")\n",
        "total = price *quantity\n",
        "print(f\"The Total amout is : ${round(total,2)}\")   #round is used to reduce the number of decimal parts\n",
        "print(f\"You have brought {quantity} x {item}/s \")"
      ]
    }
  ]
}