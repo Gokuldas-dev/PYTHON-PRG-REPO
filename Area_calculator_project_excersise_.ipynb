{
  "nbformat": 4,
  "nbformat_minor": 0,
  "metadata": {
    "colab": {
      "provenance": [],
      "authorship_tag": "ABX9TyMcpfpBP54jMPEV2JQtGiwl",
      "include_colab_link": true
    },
    "kernelspec": {
      "name": "python3",
      "display_name": "Python 3"
    },
    "language_info": {
      "name": "python"
    }
  },
  "cells": [
    {
      "cell_type": "markdown",
      "metadata": {
        "id": "view-in-github",
        "colab_type": "text"
      },
      "source": [
        "<a href=\"https://colab.research.google.com/github/Gokuldas-dev/PYTHON-PRG-REPO/blob/Gokuldas-dev-patch-1/Area_calculator_project_excersise_.ipynb\" target=\"_parent\"><img src=\"https://colab.research.google.com/assets/colab-badge.svg\" alt=\"Open In Colab\"/></a>"
      ]
    },
    {
      "cell_type": "code",
      "execution_count": 4,
      "metadata": {
        "colab": {
          "base_uri": "https://localhost:8080/"
        },
        "id": "NQgp5xn77ffP",
        "outputId": "da7830a4-887f-4ac9-f1ff-19f8105b10b4"
      },
      "outputs": [
        {
          "output_type": "stream",
          "name": "stdout",
          "text": [
            "Enter the length of the rectangle :9\n",
            "Enter the width of the rectangle :15\n",
            "The area of the recatangle is : 135 cm^2\n"
          ]
        }
      ],
      "source": [
        "length =float(input(\"Enter the length of the rectangle :\"))\n",
        "width = float(input(\"Enter the width of the rectangle :\"))\n",
        "area = length * width\n",
        "print(f\"The area of the recatangle is : {area} cm^2\")"
      ]
    }
  ]
}