{
  "nbformat": 4,
  "nbformat_minor": 0,
  "metadata": {
    "colab": {
      "provenance": [],
      "authorship_tag": "ABX9TyNkR/LlfIm/PKj8t1BBnsyJ",
      "include_colab_link": true
    },
    "kernelspec": {
      "name": "python3",
      "display_name": "Python 3"
    },
    "language_info": {
      "name": "python"
    }
  },
  "cells": [
    {
      "cell_type": "markdown",
      "metadata": {
        "id": "view-in-github",
        "colab_type": "text"
      },
      "source": [
        "<a href=\"https://colab.research.google.com/github/Gokuldas-dev/PYTHON-PRG-REPO/blob/Gokuldas-dev-patch-1/Python_3_tutorial_2.ipynb\" target=\"_parent\"><img src=\"https://colab.research.google.com/assets/colab-badge.svg\" alt=\"Open In Colab\"/></a>"
      ]
    },
    {
      "cell_type": "code",
      "execution_count": null,
      "metadata": {
        "colab": {
          "base_uri": "https://localhost:8080/"
        },
        "id": "TlNLLYn5-Eyl",
        "outputId": "2265f9eb-6de0-4c0d-e60f-974e06057bf6"
      },
      "outputs": [
        {
          "output_type": "stream",
          "name": "stdout",
          "text": [
            "1\n"
          ]
        }
      ],
      "source": [
        "friends = 0\n",
        "\n",
        "#friends = friends + 1\n",
        "friends += 1  #augmented assignment operator\n",
        "print(friends)"
      ]
    },
    {
      "cell_type": "code",
      "source": [
        "friends = 0\n",
        "#friends = friends -2\n",
        "friends -=2\n",
        "print(friends)"
      ],
      "metadata": {
        "colab": {
          "base_uri": "https://localhost:8080/"
        },
        "id": "61EY6j3a-XTm",
        "outputId": "e2f2ddfb-11e4-4047-da1e-3440099e5042"
      },
      "execution_count": null,
      "outputs": [
        {
          "output_type": "stream",
          "name": "stdout",
          "text": [
            "-2\n"
          ]
        }
      ]
    },
    {
      "cell_type": "code",
      "source": [
        "friends = 0\n",
        "#friends = friends *2\n",
        "friends *=2\n",
        "print(friends)"
      ],
      "metadata": {
        "colab": {
          "base_uri": "https://localhost:8080/"
        },
        "id": "XLRSttLmUDn7",
        "outputId": "153ebf83-9333-42d1-ef6c-72294eb2c598"
      },
      "execution_count": null,
      "outputs": [
        {
          "output_type": "stream",
          "name": "stdout",
          "text": [
            "0\n"
          ]
        }
      ]
    },
    {
      "cell_type": "code",
      "source": [
        "friends = 0\n",
        "#friends = friends /2\n",
        "friends /=2\n",
        "print(friends)"
      ],
      "metadata": {
        "colab": {
          "base_uri": "https://localhost:8080/"
        },
        "id": "yjr-OyOQUU2J",
        "outputId": "c7dc783c-2de5-456e-b4a7-c1ab4090a41e"
      },
      "execution_count": null,
      "outputs": [
        {
          "output_type": "stream",
          "name": "stdout",
          "text": [
            "0.0\n"
          ]
        }
      ]
    },
    {
      "cell_type": "code",
      "source": [
        "friends = 5\n",
        "#friends = friends **2\n",
        "friends **=2\n",
        "print(friends)"
      ],
      "metadata": {
        "colab": {
          "base_uri": "https://localhost:8080/"
        },
        "id": "QQjxDOi8UdoJ",
        "outputId": "53be42d0-424e-4ee8-cc79-b5fef17e9524"
      },
      "execution_count": null,
      "outputs": [
        {
          "output_type": "stream",
          "name": "stdout",
          "text": [
            "25\n"
          ]
        }
      ]
    },
    {
      "cell_type": "code",
      "source": [
        "friends = 10\n",
        "reminder = friends %3\n",
        "print(reminder)"
      ],
      "metadata": {
        "colab": {
          "base_uri": "https://localhost:8080/"
        },
        "id": "mnKK4FMkUpFQ",
        "outputId": "d6c0e697-7bc4-4e77-a45e-f16a97117ad9"
      },
      "execution_count": null,
      "outputs": [
        {
          "output_type": "stream",
          "name": "stdout",
          "text": [
            "1\n"
          ]
        }
      ]
    },
    {
      "cell_type": "code",
      "source": [
        "x = 3.14\n",
        "y =4\n",
        "z =5\n",
        "result = round(x)\n",
        "print(result)"
      ],
      "metadata": {
        "id": "nvpM4dK1VH_C",
        "colab": {
          "base_uri": "https://localhost:8080/"
        },
        "outputId": "38b14590-daab-4e9c-cc07-8077b4e35366"
      },
      "execution_count": null,
      "outputs": [
        {
          "output_type": "stream",
          "name": "stdout",
          "text": [
            "3\n"
          ]
        }
      ]
    },
    {
      "cell_type": "code",
      "source": [
        "x = 3.14\n",
        "y = -4\n",
        "z = 5\n",
        "result = abs(y)\n",
        "print(result)"
      ],
      "metadata": {
        "colab": {
          "base_uri": "https://localhost:8080/"
        },
        "id": "e_nmOYMbW1Ty",
        "outputId": "620abf5f-f6c8-4424-fcbc-8275e4936f9c"
      },
      "execution_count": null,
      "outputs": [
        {
          "output_type": "stream",
          "name": "stdout",
          "text": [
            "4\n"
          ]
        }
      ]
    },
    {
      "cell_type": "code",
      "source": [
        "x = 3.14\n",
        "y =4\n",
        "z =5\n",
        "result = pow(4,3)\n",
        "print(result)"
      ],
      "metadata": {
        "colab": {
          "base_uri": "https://localhost:8080/"
        },
        "id": "mjIfOVPeW8g5",
        "outputId": "7886c785-9779-4d60-de8d-7ad72dae223d"
      },
      "execution_count": null,
      "outputs": [
        {
          "output_type": "stream",
          "name": "stdout",
          "text": [
            "64\n"
          ]
        }
      ]
    },
    {
      "cell_type": "code",
      "source": [
        "x = 3.14\n",
        "y =4\n",
        "z =5\n",
        "result = max(x,y,z)\n",
        "print(result)"
      ],
      "metadata": {
        "colab": {
          "base_uri": "https://localhost:8080/"
        },
        "id": "fLCTNgd1XGy-",
        "outputId": "38c51394-31d5-49ce-a0d2-2aafefa0f0de"
      },
      "execution_count": null,
      "outputs": [
        {
          "output_type": "stream",
          "name": "stdout",
          "text": [
            "5\n"
          ]
        }
      ]
    },
    {
      "cell_type": "code",
      "source": [
        "x = 3.14\n",
        "y =4\n",
        "z =5\n",
        "result = min(x,y,z)\n",
        "print(result)"
      ],
      "metadata": {
        "colab": {
          "base_uri": "https://localhost:8080/"
        },
        "id": "NTravZzvXMbe",
        "outputId": "ad6e661c-d271-4c4d-c912-0e206d667861"
      },
      "execution_count": null,
      "outputs": [
        {
          "output_type": "stream",
          "name": "stdout",
          "text": [
            "3.14\n"
          ]
        }
      ]
    },
    {
      "cell_type": "code",
      "source": [
        "import math\n",
        "print(math.pi)\n",
        "print(round(math.pi,2)) #value of pi using math function\n",
        "print(math.e)"
      ],
      "metadata": {
        "colab": {
          "base_uri": "https://localhost:8080/"
        },
        "id": "3_JcaocOXQDW",
        "outputId": "679619ad-2cac-4399-b664-231cdabbffd2"
      },
      "execution_count": null,
      "outputs": [
        {
          "output_type": "stream",
          "name": "stdout",
          "text": [
            "3.141592653589793\n",
            "3.14\n",
            "2.718281828459045\n"
          ]
        }
      ]
    },
    {
      "cell_type": "code",
      "source": [
        "import math\n",
        "x =9\n",
        "result = math.sqrt(x)\n",
        "print(result)"
      ],
      "metadata": {
        "colab": {
          "base_uri": "https://localhost:8080/"
        },
        "id": "XZxQ6qC6XUIO",
        "outputId": "e21dca45-26e9-44c5-de67-2c06f8e01026"
      },
      "execution_count": null,
      "outputs": [
        {
          "output_type": "stream",
          "name": "stdout",
          "text": [
            "3.0\n"
          ]
        }
      ]
    },
    {
      "cell_type": "code",
      "source": [
        "import math\n",
        "x = 9.1\n",
        "result = math.ceil(x)   #ceil function is used to round off the float number\n",
        "print(result)\n"
      ],
      "metadata": {
        "colab": {
          "base_uri": "https://localhost:8080/"
        },
        "id": "e5agPT80YHWm",
        "outputId": "89351be0-91af-4eb7-f424-63fdeb6a2d10"
      },
      "execution_count": null,
      "outputs": [
        {
          "output_type": "stream",
          "name": "stdout",
          "text": [
            "10\n"
          ]
        }
      ]
    },
    {
      "cell_type": "code",
      "source": [
        "import math\n",
        "Y = 9.9\n",
        "result = math.floor(Y)\n",
        "print(Y)"
      ],
      "metadata": {
        "colab": {
          "base_uri": "https://localhost:8080/"
        },
        "id": "rnvr9l5JYc3X",
        "outputId": "83b17f89-b4d3-4379-8dfb-ed445d955c78"
      },
      "execution_count": null,
      "outputs": [
        {
          "output_type": "stream",
          "name": "stdout",
          "text": [
            "9.9\n"
          ]
        }
      ]
    },
    {
      "cell_type": "code",
      "source": [
        "import math\n",
        "\n",
        "radius = float(input (\"Radius of a circle : \"))\n",
        "area = math.pi * pow(radius,2)\n",
        "print(f\"The Area of a circle is : {round(area,2)} cm^2\")"
      ],
      "metadata": {
        "id": "gSIFPv-xYx_3",
        "colab": {
          "base_uri": "https://localhost:8080/"
        },
        "outputId": "cc72d62b-27ee-4ac0-9123-fee8a95187c0"
      },
      "execution_count": 6,
      "outputs": [
        {
          "output_type": "stream",
          "name": "stdout",
          "text": [
            "Radius of a circle : 10.5\n",
            "The Area of a circle is : 346.36 cm^2\n"
          ]
        }
      ]
    },
    {
      "cell_type": "code",
      "source": [],
      "metadata": {
        "id": "gfL73dl3N9us"
      },
      "execution_count": null,
      "outputs": []
    }
  ]
}