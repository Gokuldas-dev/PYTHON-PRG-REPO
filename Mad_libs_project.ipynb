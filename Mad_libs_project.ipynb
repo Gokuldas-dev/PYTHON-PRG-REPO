{
  "nbformat": 4,
  "nbformat_minor": 0,
  "metadata": {
    "colab": {
      "provenance": [],
      "authorship_tag": "ABX9TyPg9nFwGRMj4aTD39kN2kcw",
      "include_colab_link": true
    },
    "kernelspec": {
      "name": "python3",
      "display_name": "Python 3"
    },
    "language_info": {
      "name": "python"
    }
  },
  "cells": [
    {
      "cell_type": "markdown",
      "metadata": {
        "id": "view-in-github",
        "colab_type": "text"
      },
      "source": [
        "<a href=\"https://colab.research.google.com/github/Gokuldas-dev/PYTHON-PRG-REPO/blob/Gokuldas-dev-patch-1/Mad_libs_project.ipynb\" target=\"_parent\"><img src=\"https://colab.research.google.com/assets/colab-badge.svg\" alt=\"Open In Colab\"/></a>"
      ]
    },
    {
      "cell_type": "code",
      "execution_count": 1,
      "metadata": {
        "colab": {
          "base_uri": "https://localhost:8080/"
        },
        "id": "NqOOV8wS0Ckq",
        "outputId": "288cc308-cf2f-4364-f2de-2072a28e8f17"
      },
      "outputs": [
        {
          "output_type": "stream",
          "name": "stdout",
          "text": [
            "Enter an adjective :sus\n",
            "Enter an noun :Mark Zukerberg\n",
            "Enter an adjective :berserk\n",
            "Enter an verb :screech\n",
            "Enter an adjective :amazed\n",
            "Today i went to a sus Zoo.\n",
            "In an Exhibit ,I saw a Mark Zukerberg\n",
            "Mark Zukerberg was berserk and screeching \n",
            "I was amazed \n"
          ]
        }
      ],
      "source": [
        "adjective1 = input(\"Enter an adjective :\")\n",
        "noun =input(\"Enter an noun :\")\n",
        "adjective2 =input(\"Enter an adjective :\")\n",
        "verb =input(\"Enter an verb :\")\n",
        "adjective3 =input(\"Enter an adjective :\")\n",
        "\n",
        "print(f\"Today i went to a {adjective1} Zoo.\")\n",
        "print(f\"In an Exhibit ,I saw a {noun}\")\n",
        "print(f\"{noun} was {adjective2} and {verb}ing \")\n",
        "print(f\"I was {adjective3} \")"
      ]
    }
  ]
}