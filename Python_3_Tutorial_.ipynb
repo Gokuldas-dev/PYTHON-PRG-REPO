{
  "nbformat": 4,
  "nbformat_minor": 0,
  "metadata": {
    "colab": {
      "provenance": [],
      "authorship_tag": "ABX9TyOIfkX8tx+LIZuEJEFJzjY4",
      "include_colab_link": true
    },
    "kernelspec": {
      "name": "python3",
      "display_name": "Python 3"
    },
    "language_info": {
      "name": "python"
    }
  },
  "cells": [
    {
      "cell_type": "markdown",
      "metadata": {
        "id": "view-in-github",
        "colab_type": "text"
      },
      "source": [
        "<a href=\"https://colab.research.google.com/github/Gokuldas-dev/PYTHON-PRG-REPO/blob/main/Python_3_Tutorial_.ipynb\" target=\"_parent\"><img src=\"https://colab.research.google.com/assets/colab-badge.svg\" alt=\"Open In Colab\"/></a>"
      ]
    },
    {
      "cell_type": "markdown",
      "source": [
        "**First Python Program **"
      ],
      "metadata": {
        "id": "LSMawuwRZ_Yy"
      }
    },
    {
      "cell_type": "code",
      "execution_count": 1,
      "metadata": {
        "colab": {
          "base_uri": "https://localhost:8080/"
        },
        "id": "vUtALrcNYSWM",
        "outputId": "d0a6c77c-5f48-42c8-dd61-b8a397979eb9"
      },
      "outputs": [
        {
          "output_type": "stream",
          "name": "stdout",
          "text": [
            "I Love Pizza\n"
          ]
        }
      ],
      "source": [
        "print(\"I Love Pizza\")"
      ]
    },
    {
      "cell_type": "code",
      "source": [
        "print(\"Its Really Good :)\")"
      ],
      "metadata": {
        "colab": {
          "base_uri": "https://localhost:8080/"
        },
        "id": "eDptMNv7YV2_",
        "outputId": "c11339d2-8484-4a12-97e4-6e6e2a7235fb"
      },
      "execution_count": 4,
      "outputs": [
        {
          "output_type": "stream",
          "name": "stdout",
          "text": [
            "Its Really Good :)\n"
          ]
        }
      ]
    },
    {
      "cell_type": "markdown",
      "source": [
        "**Variables**"
      ],
      "metadata": {
        "id": "MlKGOtCbaH8M"
      }
    },
    {
      "cell_type": "code",
      "source": [
        "age = 22\n",
        "print(age)"
      ],
      "metadata": {
        "colab": {
          "base_uri": "https://localhost:8080/"
        },
        "id": "hFuqOv6UY5IR",
        "outputId": "ee44b940-25a1-495c-9868-e57d06f88c04"
      },
      "execution_count": 5,
      "outputs": [
        {
          "output_type": "stream",
          "name": "stdout",
          "text": [
            "22\n"
          ]
        }
      ]
    },
    {
      "cell_type": "code",
      "source": [
        "age = 22\n",
        "print(\"My age is :\" ,age)"
      ],
      "metadata": {
        "colab": {
          "base_uri": "https://localhost:8080/"
        },
        "id": "w0-XmIiRY8p-",
        "outputId": "42cc791e-0cee-44e5-e159-179ac152a02e"
      },
      "execution_count": 6,
      "outputs": [
        {
          "output_type": "stream",
          "name": "stdout",
          "text": [
            "My age is : 22\n"
          ]
        }
      ]
    },
    {
      "cell_type": "code",
      "source": [
        "age = 22\n",
        "print(\"You are \" + str(age) + \" years old\")"
      ],
      "metadata": {
        "colab": {
          "base_uri": "https://localhost:8080/"
        },
        "id": "Xr4xHq4yZBdD",
        "outputId": "f4a77739-56f4-42d3-da5c-9650afa4d23e"
      },
      "execution_count": 8,
      "outputs": [
        {
          "output_type": "stream",
          "name": "stdout",
          "text": [
            "You are 22 years old\n"
          ]
        }
      ]
    },
    {
      "cell_type": "code",
      "source": [
        "print(\"You are \",age,\" Years Old\")"
      ],
      "metadata": {
        "colab": {
          "base_uri": "https://localhost:8080/"
        },
        "id": "fXU8Q4H2ZQ45",
        "outputId": "4a38aa30-5ae6-440e-f59e-eb40b630bf99"
      },
      "execution_count": 10,
      "outputs": [
        {
          "output_type": "stream",
          "name": "stdout",
          "text": [
            "You are  22  Years Old\n"
          ]
        }
      ]
    },
    {
      "cell_type": "markdown",
      "source": [
        "this is a new method using f and curly **braces**"
      ],
      "metadata": {
        "id": "dfzHJlAkaPRL"
      }
    },
    {
      "cell_type": "markdown",
      "source": [],
      "metadata": {
        "id": "h5ZMQfmnaO7G"
      }
    },
    {
      "cell_type": "code",
      "source": [
        "print(f\"You are {age} Years Old\")"
      ],
      "metadata": {
        "colab": {
          "base_uri": "https://localhost:8080/"
        },
        "id": "dTQsfYPuZ18A",
        "outputId": "b3827106-f5b6-4c00-a941-3da874b27805"
      },
      "execution_count": 11,
      "outputs": [
        {
          "output_type": "stream",
          "name": "stdout",
          "text": [
            "You are 22 Years Old\n"
          ]
        }
      ]
    },
    {
      "cell_type": "markdown",
      "source": [
        "**Data Types in python**\n",
        "\n",
        "Intigers,\n",
        "Float,\n",
        "Strings,\n",
        "Booleans"
      ],
      "metadata": {
        "id": "RC8iQWN3bMAA"
      }
    },
    {
      "cell_type": "code",
      "source": [
        "#INTEGER TYPE\n",
        "\n",
        "age = 22\n",
        "players = 2\n",
        "quantity = 5\n",
        "\n",
        "print(f\"You are {age} Years old\")\n",
        "print(f\"There are {players} Players Online\")\n",
        "print(f\"you would like to buy {quantity} Items\")\n"
      ],
      "metadata": {
        "colab": {
          "base_uri": "https://localhost:8080/"
        },
        "id": "rYR2HF2ubcF-",
        "outputId": "2b440b8c-9b66-4f2a-eebf-1fcc80c123af"
      },
      "execution_count": 12,
      "outputs": [
        {
          "output_type": "stream",
          "name": "stdout",
          "text": [
            "You are 22 Years old\n",
            "There are 2 Players Online\n",
            "you would like to buy 5 Items\n"
          ]
        }
      ]
    },
    {
      "cell_type": "code",
      "source": [
        "#FLOAT TYPE\n",
        "\n",
        "gpa = 3.2\n",
        "distance = 2.5\n",
        "price = 10.99\n",
        "\n",
        "print(f\"Your Gpa is {gpa}\")\n",
        "print(f\"You ran {distance} KM\")\n",
        "print(f\"The price is ${price}\")"
      ],
      "metadata": {
        "colab": {
          "base_uri": "https://localhost:8080/"
        },
        "id": "RpjsRlvscQ_F",
        "outputId": "dcc8f0dd-9adc-4e21-b698-26f7ed7b2b38"
      },
      "execution_count": 13,
      "outputs": [
        {
          "output_type": "stream",
          "name": "stdout",
          "text": [
            "Your Gpa is 3.2\n",
            "You ran 2.5 KM\n",
            "The price is $10.99\n"
          ]
        }
      ]
    },
    {
      "cell_type": "code",
      "source": [
        "#STRINGS TYPE\n",
        "\n",
        "name =\"Gokuldas\"\n",
        "food = \"Masala dosa\"\n",
        "email =\"gokuldasshenoy2@gmail.com\"\n",
        "\n",
        "print(f\"Hello {name}\")\n",
        "print(f\"You like {food}\")\n",
        "print(f\"Your Email is : {email}\")"
      ],
      "metadata": {
        "colab": {
          "base_uri": "https://localhost:8080/"
        },
        "id": "ajpYRDI_dHLM",
        "outputId": "391e41d6-5d52-405c-af37-02533f1ba900"
      },
      "execution_count": 14,
      "outputs": [
        {
          "output_type": "stream",
          "name": "stdout",
          "text": [
            "Hello Gokuldas\n",
            "You like Masala dosa\n",
            "Your Email is : gokuldasshenoy2@gmail.com\n"
          ]
        }
      ]
    },
    {
      "cell_type": "code",
      "source": [
        "#BOOLEN TYPES\n",
        "\n",
        "online = True\n",
        "for_sales = False\n",
        "running = True\n",
        "\n",
        "print(f\"Are You Online ? :{online}\")\n",
        "print(f\"Is the Items for Sale ? :{for_sales}\")\n",
        "print(f\"Game Running :{running}\")"
      ],
      "metadata": {
        "colab": {
          "base_uri": "https://localhost:8080/"
        },
        "id": "IA8X-pyPd5o1",
        "outputId": "f317f734-983b-48ec-f596-580e59a70117"
      },
      "execution_count": 15,
      "outputs": [
        {
          "output_type": "stream",
          "name": "stdout",
          "text": [
            "Are You Online ? :True\n",
            "Is the Items for Sale ? :False\n",
            "Game Running :True\n"
          ]
        }
      ]
    },
    {
      "cell_type": "code",
      "source": [
        "if running :\n",
        "  print(\"The Game is Running\")\n",
        "else :\n",
        "  print(\"The Game is Over\")"
      ],
      "metadata": {
        "colab": {
          "base_uri": "https://localhost:8080/"
        },
        "id": "bZ7xglyEfP8L",
        "outputId": "637d246c-ab1f-42ef-8d37-985d07eed19d"
      },
      "execution_count": 16,
      "outputs": [
        {
          "output_type": "stream",
          "name": "stdout",
          "text": [
            "The Game is Running\n"
          ]
        }
      ]
    },
    {
      "cell_type": "code",
      "source": [
        "x =1\n",
        "y =2\n",
        "z =3\n",
        "\n",
        "print(x)\n",
        "print(y)\n",
        "print(z)"
      ],
      "metadata": {
        "colab": {
          "base_uri": "https://localhost:8080/"
        },
        "id": "s4pr3yiifmqP",
        "outputId": "c6c08c01-7f9a-448f-a024-6c4f1370d642"
      },
      "execution_count": 18,
      "outputs": [
        {
          "output_type": "stream",
          "name": "stdout",
          "text": [
            "1\n",
            "2\n",
            "3\n"
          ]
        }
      ]
    },
    {
      "cell_type": "code",
      "source": [
        "x,y,z = 1,2,3\n",
        "print(x)\n",
        "print(y)\n",
        "print(z)"
      ],
      "metadata": {
        "colab": {
          "base_uri": "https://localhost:8080/"
        },
        "id": "WloMkGO9f_oP",
        "outputId": "c3a00b6b-85e7-4db1-8c89-ff30923b8252"
      },
      "execution_count": 19,
      "outputs": [
        {
          "output_type": "stream",
          "name": "stdout",
          "text": [
            "1\n",
            "2\n",
            "3\n"
          ]
        }
      ]
    },
    {
      "cell_type": "code",
      "source": [
        "x = y = z = 5\n",
        "print(x)\n",
        "print(y)\n",
        "print(z)"
      ],
      "metadata": {
        "colab": {
          "base_uri": "https://localhost:8080/"
        },
        "id": "-zJM859pgMIV",
        "outputId": "2ade9f41-9a85-4460-ee32-fd35eb413d81"
      },
      "execution_count": 22,
      "outputs": [
        {
          "output_type": "stream",
          "name": "stdout",
          "text": [
            "5\n",
            "5\n",
            "5\n"
          ]
        }
      ]
    },
    {
      "cell_type": "markdown",
      "source": [
        "Type Casting The Process of Converting value of one datatype to another\n",
        "(string ,Integer,Float , Boolean)\n",
        "Explicit or Implicit\n",
        "**bold text**"
      ],
      "metadata": {
        "id": "j4rXa-e2hIJF"
      }
    },
    {
      "cell_type": "code",
      "source": [
        "name = \"Gokuldas\"\n",
        "age = 22\n",
        "gpa = 7.9\n",
        "student = True\n",
        "\n",
        "print(type(name))\n",
        "print(type(age))\n",
        "print(type(gpa))\n",
        "print(type(student))"
      ],
      "metadata": {
        "colab": {
          "base_uri": "https://localhost:8080/"
        },
        "id": "P3rGiRtAhy-R",
        "outputId": "931cda24-470c-4397-85ff-3cbeea230300"
      },
      "execution_count": 25,
      "outputs": [
        {
          "output_type": "stream",
          "name": "stdout",
          "text": [
            "<class 'str'>\n",
            "<class 'int'>\n",
            "<class 'float'>\n",
            "<class 'bool'>\n"
          ]
        }
      ]
    },
    {
      "cell_type": "code",
      "source": [
        "age = float(age)\n",
        "print(f\"My age is {age}\")\n",
        "print(type(age))"
      ],
      "metadata": {
        "colab": {
          "base_uri": "https://localhost:8080/"
        },
        "id": "llxo0IJJijf5",
        "outputId": "9e69f7a3-545d-4717-e10b-a8fbe90bb588"
      },
      "execution_count": 26,
      "outputs": [
        {
          "output_type": "stream",
          "name": "stdout",
          "text": [
            "My age is 22.0\n",
            "<class 'float'>\n"
          ]
        }
      ]
    },
    {
      "cell_type": "code",
      "source": [
        "gpa = int(gpa)\n",
        "print(f\"My Gpa is  : {gpa}\")\n",
        "print(type(gpa))"
      ],
      "metadata": {
        "colab": {
          "base_uri": "https://localhost:8080/"
        },
        "id": "04gAKvojjAlI",
        "outputId": "4d05396e-e878-4db6-de75-cb1b5522811f"
      },
      "execution_count": 27,
      "outputs": [
        {
          "output_type": "stream",
          "name": "stdout",
          "text": [
            "My Gpa is  : 7\n",
            "<class 'int'>\n"
          ]
        }
      ]
    },
    {
      "cell_type": "code",
      "source": [
        "student = str(student)\n",
        "print(f\"Now Student is : {student}\")\n",
        "print(type(student))"
      ],
      "metadata": {
        "colab": {
          "base_uri": "https://localhost:8080/"
        },
        "id": "YnriT0U8jVYJ",
        "outputId": "5a85c1af-a2d8-4ed3-d7cb-1a05e484399f"
      },
      "execution_count": 29,
      "outputs": [
        {
          "output_type": "stream",
          "name": "stdout",
          "text": [
            "Now Student is : True\n",
            "<class 'str'>\n"
          ]
        }
      ]
    },
    {
      "cell_type": "code",
      "source": [
        "age = bool(age)\n",
        "print(age)\n",
        "print(type(age))"
      ],
      "metadata": {
        "colab": {
          "base_uri": "https://localhost:8080/"
        },
        "id": "jOxJXLlrjpNg",
        "outputId": "a4dbcf83-b60b-4c31-dd84-ed6b8bb10dc4"
      },
      "execution_count": 32,
      "outputs": [
        {
          "output_type": "stream",
          "name": "stdout",
          "text": [
            "True\n",
            "<class 'bool'>\n"
          ]
        }
      ]
    },
    {
      "cell_type": "code",
      "source": [
        "age = -1000\n",
        "age = bool(age)\n",
        "print(age)\n",
        "print(type(age))"
      ],
      "metadata": {
        "colab": {
          "base_uri": "https://localhost:8080/"
        },
        "id": "CBhfboX6kEnX",
        "outputId": "ea6d9680-843f-4af9-ef7d-83efbd23ae8e"
      },
      "execution_count": 31,
      "outputs": [
        {
          "output_type": "stream",
          "name": "stdout",
          "text": [
            "True\n",
            "<class 'bool'>\n"
          ]
        }
      ]
    },
    {
      "cell_type": "code",
      "source": [
        "age = 0\n",
        "age = bool(age)\n",
        "print(age)\n",
        "print(type(age))"
      ],
      "metadata": {
        "colab": {
          "base_uri": "https://localhost:8080/"
        },
        "id": "GcEQmB_ukTdf",
        "outputId": "9a41a59b-0926-4ac3-998a-1575c25f4453"
      },
      "execution_count": 33,
      "outputs": [
        {
          "output_type": "stream",
          "name": "stdout",
          "text": [
            "False\n",
            "<class 'bool'>\n"
          ]
        }
      ]
    },
    {
      "cell_type": "code",
      "source": [
        "x = 2\n",
        "y = 2.0\n",
        "\n",
        "x = x/y\n",
        "print(x)\n",
        " #this is an implicit type casting\n",
        " #changing vlaue by it self"
      ],
      "metadata": {
        "colab": {
          "base_uri": "https://localhost:8080/"
        },
        "id": "rBY3lp4GktpA",
        "outputId": "92199535-c61d-489c-b8ee-b13d02c431c7"
      },
      "execution_count": 35,
      "outputs": [
        {
          "output_type": "stream",
          "name": "stdout",
          "text": [
            "1.0\n"
          ]
        }
      ]
    },
    {
      "cell_type": "markdown",
      "source": [
        "**User Input Using Python **"
      ],
      "metadata": {
        "id": "-kXh4oe4pk0i"
      }
    },
    {
      "cell_type": "code",
      "source": [
        "name = input(\"Enter Your name  :\")\n",
        "print(f\"Hello {name}\")"
      ],
      "metadata": {
        "colab": {
          "base_uri": "https://localhost:8080/"
        },
        "id": "F3GkKezsk2Fp",
        "outputId": "f0701142-e596-4656-9c7e-a05ed5ecadfa"
      },
      "execution_count": 37,
      "outputs": [
        {
          "output_type": "stream",
          "name": "stdout",
          "text": [
            "Enter Your name  :Gokuldas shenoy \n",
            "Hello Gokuldas shenoy \n"
          ]
        }
      ]
    },
    {
      "cell_type": "code",
      "source": [],
      "metadata": {
        "id": "Qi4DmSSsp8xG"
      },
      "execution_count": null,
      "outputs": []
    }
  ]
}