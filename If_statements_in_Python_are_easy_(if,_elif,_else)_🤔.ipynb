{
  "nbformat": 4,
  "nbformat_minor": 0,
  "metadata": {
    "colab": {
      "provenance": [],
      "authorship_tag": "ABX9TyMgVIPiAcB/vrzHfYHRSFCH",
      "include_colab_link": true
    },
    "kernelspec": {
      "name": "python3",
      "display_name": "Python 3"
    },
    "language_info": {
      "name": "python"
    }
  },
  "cells": [
    {
      "cell_type": "markdown",
      "metadata": {
        "id": "view-in-github",
        "colab_type": "text"
      },
      "source": [
        "<a href=\"https://colab.research.google.com/github/Gokuldas-dev/PYTHON-PRG-REPO/blob/Gokuldas-dev-patch-1/If_statements_in_Python_are_easy_(if%2C_elif%2C_else)_%F0%9F%A4%94.ipynb\" target=\"_parent\"><img src=\"https://colab.research.google.com/assets/colab-badge.svg\" alt=\"Open In Colab\"/></a>"
      ]
    },
    {
      "cell_type": "code",
      "execution_count": 5,
      "metadata": {
        "colab": {
          "base_uri": "https://localhost:8080/"
        },
        "id": "hojfxJ4vQ3PF",
        "outputId": "2bc037aa-0186-4c47-b977-43fcd8889a42"
      },
      "outputs": [
        {
          "output_type": "stream",
          "name": "stdout",
          "text": [
            "Enter Your Age : 18\n",
            "You are now signed up !\n"
          ]
        }
      ],
      "source": [
        "age = int(input(\"Enter Your Age : \"))\n",
        "\n",
        "if age >= 18:\n",
        "  print(\"You are now signed up !\")\n",
        "else:\n",
        "  print(\"You must be 18+ to sign up\")"
      ]
    },
    {
      "cell_type": "code",
      "source": [
        "age = int(input(\"Enter Your Age : \"))\n",
        "\n",
        "if age >= 18:\n",
        "  print(\"You are now signed up !\")\n",
        "elif age <= 0:\n",
        "  print(\"You haven't been born yet !! \")\n",
        "else:\n",
        "  print(\"You must be 18+ to sign up\")"
      ],
      "metadata": {
        "colab": {
          "base_uri": "https://localhost:8080/"
        },
        "id": "__pWOx2lRvmA",
        "outputId": "0d675b88-a116-4208-a905-959b3f818f05"
      },
      "execution_count": 7,
      "outputs": [
        {
          "output_type": "stream",
          "name": "stdout",
          "text": [
            "Enter Your Age : 0\n",
            "YOu haven't been born yet !! \n"
          ]
        }
      ]
    },
    {
      "cell_type": "code",
      "source": [
        "age = int(input(\"Enter Your Age : \"))\n",
        "\n",
        "if age >= 100:\n",
        "  print(\"You are to old to sign up !!\")\n",
        "elif age >= 18:\n",
        "  print(\"You are now signed up !\")\n",
        "elif age <= 0:\n",
        "  print(\"You haven't been born yet !! \")\n",
        "else:\n",
        "  print(\"You must be 18+ to sign up\")"
      ],
      "metadata": {
        "colab": {
          "base_uri": "https://localhost:8080/"
        },
        "id": "yLN7XheSSgnG",
        "outputId": "3dee1381-163b-4cd3-d061-6f148927d214"
      },
      "execution_count": 12,
      "outputs": [
        {
          "output_type": "stream",
          "name": "stdout",
          "text": [
            "Enter Your Age : 18\n",
            "You are now signed up !\n"
          ]
        }
      ]
    },
    {
      "cell_type": "code",
      "source": [
        "response = input(\"Would You like Food ? (Y/N) :\")\n",
        "\n",
        "if response == \"Y\":\n",
        "  print(\"Have Some Food :)\")\n",
        "else :\n",
        "  print(\"No Food For U\")"
      ],
      "metadata": {
        "colab": {
          "base_uri": "https://localhost:8080/"
        },
        "id": "Z_xMpC2eS5-g",
        "outputId": "394cce51-8749-42d4-8c49-d0a2e92853f7"
      },
      "execution_count": 1,
      "outputs": [
        {
          "output_type": "stream",
          "name": "stdout",
          "text": [
            "Would You like Food ? (Y/N) :Y\n",
            "Have Some Food :)\n"
          ]
        }
      ]
    },
    {
      "cell_type": "code",
      "source": [
        "name =input(\"Enter Your name :\")\n",
        "\n",
        "if name == \"\" :\n",
        "  print(\"You did not type your name here !!\")\n",
        "else :\n",
        "  print(f\"Hello {name}\")"
      ],
      "metadata": {
        "colab": {
          "base_uri": "https://localhost:8080/"
        },
        "id": "qJyGRfTE526d",
        "outputId": "14cbb7e3-78e8-4e5a-c2ae-35b783a94501"
      },
      "execution_count": 5,
      "outputs": [
        {
          "output_type": "stream",
          "name": "stdout",
          "text": [
            "Enter Your name :\n",
            "You did not type your name here !!\n"
          ]
        }
      ]
    },
    {
      "cell_type": "code",
      "source": [
        "for_sale = True\n",
        "if for_sale :\n",
        "  print(\"This item is for sale \")\n",
        "else:\n",
        "  print(\"This item is not for sale !!\")"
      ],
      "metadata": {
        "colab": {
          "base_uri": "https://localhost:8080/"
        },
        "id": "7atDRpE43txw",
        "outputId": "3ca2f01e-06af-4297-d68a-ab11f647481b"
      },
      "execution_count": 6,
      "outputs": [
        {
          "output_type": "stream",
          "name": "stdout",
          "text": [
            "This item is for sale \n"
          ]
        }
      ]
    },
    {
      "cell_type": "code",
      "source": [],
      "metadata": {
        "id": "VSyFBVKW4pS4"
      },
      "execution_count": null,
      "outputs": []
    }
  ]
}